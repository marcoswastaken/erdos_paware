{
 "cells": [
  {
   "cell_type": "code",
   "execution_count": 44,
   "id": "239b7220-91c8-4f77-8dca-3e5a975f7a69",
   "metadata": {},
   "outputs": [],
   "source": [
    "import polars as pl\n",
    "import sys\n",
    "import os\n",
    "import numpy as np\n",
    "import math\n",
    "sys.path.append(\"../src/\")\n",
    "\n",
    "from evaluating_results import process_labels"
   ]
  },
  {
   "cell_type": "code",
   "execution_count": 45,
   "id": "5d1f1c05-6ca1-4684-992e-d0cab5cc0810",
   "metadata": {},
   "outputs": [],
   "source": [
    "voters = [\"mo\", \"kk\", \"kp\", \"dr\", \"sr\"]\n",
    "vote_cols = [\"mo_label\", \"kk_label\", \"kp_label\", \"dr_label\", \"sr_label\"]"
   ]
  },
  {
   "cell_type": "code",
   "execution_count": 46,
   "id": "643e9418-043c-4840-b248-7d8d3daab0b5",
   "metadata": {},
   "outputs": [],
   "source": [
    "labeling_dir = \"./labeled_results/\""
   ]
  },
  {
   "cell_type": "code",
   "execution_count": 47,
   "id": "17623dca-5799-4d2f-85b9-104b417dade7",
   "metadata": {},
   "outputs": [],
   "source": [
    "    def voting_machine(row: pl.Series) -> int:\n",
    "        votes = row.to_list()\n",
    "        votes_1 = votes.count(1)\n",
    "        votes_2 = votes.count(2)\n",
    "        votes_3 = votes.count(3)\n",
    "        \n",
    "        ## Clear winners\n",
    "        if (votes_1 > votes_2) & (votes_1 > votes_3):\n",
    "            return 1\n",
    "        elif (votes_2 > votes_1) & (votes_2 > votes_3):\n",
    "            return 2\n",
    "        elif (votes_3 > votes_2) & (votes_3 > votes_1):\n",
    "            return 3\n",
    "\n",
    "        ## Dealing with ties\n",
    "        if votes_1 == votes_2 > votes_3:\n",
    "            return 2\n",
    "\n",
    "        if votes_1 == votes_3 > votes_2:\n",
    "            return 3\n",
    "\n",
    "        if votes_2 == votes_3 > votes_1:\n",
    "            return 2\n",
    "\n",
    "        if votes_1 == votes_2 == votes_3:\n",
    "            return 2"
   ]
  },
  {
   "cell_type": "code",
   "execution_count": 1,
   "id": "57969090-8d87-4c0b-8ae7-82bc6bf9d154",
   "metadata": {},
   "outputs": [],
   "source": [
    "def ndcg_calc(array):\n",
    "    \n",
    "    dcg = 0\n",
    "    dcg_ideal = 0\n",
    "    \n",
    "    sort_ind = np.argsort(array)\n",
    "    sorted_arr = np.take(array,sort_ind[::-1])\n",
    "\n",
    "    for j in range(len(array)):\n",
    "        dcg = dcg+(2**array[j]-1)/math.log2(j+2)\n",
    "\n",
    "    for j in range(len(sorted_arr)):\n",
    "        dcg_ideal = dcg_ideal+(2**sorted_arr[j]-1)/math.log2(j+2)\n",
    "\n",
    "        # Add the 1e-8 to control division by 0 error. \n",
    "        # This results when all the entries are irrelevant.\n",
    "    \n",
    "    return dcg/(dcg_ideal+1e-8)"
   ]
  },
  {
   "cell_type": "code",
   "execution_count": 54,
   "id": "8c051637-7891-4a7d-b188-6b2de7155aad",
   "metadata": {},
   "outputs": [],
   "source": [
    "def get_relevance_score(query):\n",
    "    config = \"00\"\n",
    "    files = [f for f in os.listdir(\"../data_labeling/labeled_results/\") if f.startswith(\"labeled_\"+config)]\n",
    "    \n",
    "    ## Read the first file to get the schema\n",
    "    df = pl.read_parquet(labeling_dir+files[0]).filter(pl.col(\"query_text\") == query).sort(\"_distance\")\n",
    "\n",
    "    ## Merge all the files\n",
    "    for f in files[1:]:\n",
    "        ## Get the human name from the filename\n",
    "        human = f.split(\"_\")[2][:2]\n",
    "\n",
    "        ## Read the file and sort by distance\n",
    "        temp_df = pl.read_parquet(labeling_dir+f).filter(pl.col(\"query_text\") == query).sort(\"_distance\")\n",
    "        \n",
    "        ## Update the labels in the main dataframe\n",
    "        df = df.with_columns(temp_df[human+\"_label\"].alias(human+\"_label\"))\n",
    "\n",
    "\n",
    "    df = df.with_columns(                  \n",
    "        pl.struct([pl.col(column_name) for column_name in vote_cols])\n",
    "        .map_elements(lambda s: [value for value in s.values() \n",
    "                                 if value is not None])\n",
    "                                 .alias(\"votes\"))\n",
    "\n",
    "    # Apply the voting machine function\n",
    "    df = df.with_columns(\n",
    "        df['votes'].map_elements(\n",
    "            voting_machine, return_dtype=int).alias(\"relevance_rating\"))\n",
    "\n",
    "\n",
    "    #df_sr = pl.read_parquet('labeled_00_sr.parquet')\n",
    "    #df_mo = pl.read_parquet('labeled_00_mo.parquet')\n",
    "    #df_kp = pl.read_parquet('labeled_00_kp.parquet')\n",
    "    #df_kk = pl.read_parquet('labeled_00_kk.parquet')\n",
    "    #df_dr = pl.read_parquet('labeled_00_dr.parquet')\n",
    "\n",
    "    #df_sr_replies =  df_sr.filter(pl.col(\"query_text\") == query).sort(\"_distance\")\n",
    "    #df_mo_replies =  df_mo.filter(pl.col(\"query_text\") == query).sort(\"_distance\")\n",
    "    #df_kp_replies =  df_kp.filter(pl.col(\"query_text\") == query).sort(\"_distance\")\n",
    "    #df_kk_replies =  df_kk.filter(pl.col(\"query_text\") == query).sort(\"_distance\")\n",
    "    #df_dr_replies =  df_dr.filter(pl.col(\"query_text\") == query).sort(\"_distance\")\n",
    "\n",
    "    #thresolding values - relevant = 1; 2 and 3 are set to -0 = irrelevant\n",
    "    \n",
    "    rating = df['relevance_rating'].replace(2,0).replace(3,0)\n",
    "    \n",
    "    #print(\"before thresolding\", df['relevance_rating'].to_numpy())\n",
    "    #print(\"after thresolding\", rating.to_numpy()) \n",
    "\n",
    "    NDCG = ndcg_calc(rating.to_numpy())\n",
    "    return np.mean(NDCG)"
   ]
  },
  {
   "cell_type": "code",
   "execution_count": 55,
   "id": "31da4199-ebf3-4b50-80bc-c122e41c6725",
   "metadata": {},
   "outputs": [
    {
     "name": "stdout",
     "output_type": "stream",
     "text": [
      "Average_ratings: How do General Motors employees feel about RTO?\n",
      " 0.8943280336381709\n",
      "Average_ratings: What kind of benefits does GM offer?\n",
      " 0.9492585259264136\n",
      "Average_ratings: When should you apply for a promotion at GM?\n",
      " 0.7872793455168332\n",
      "Average_ratings: How much does a driver make with UPS?\n",
      " 0.884382128669919\n",
      "Average_ratings: How long is a typical UPS shift? OR Should I work a double shift at UPS?\n",
      " 0.8620078631854978\n",
      "Average_ratings: How do UPS employees feel about route cuts?\n",
      " 0.8060196532917736\n",
      "Average_ratings: Is it better to work at fedex express or fedex ground?\n",
      " 0.6598852917528001\n",
      "Average_ratings: How do FedEx employees feel about route cuts?\n",
      " 0.8315395891100723\n",
      "Average_ratings: How often do you get a raise at Lowes?\n",
      " 0.7574028813651963\n",
      "Average_ratings: Does your schedule get changed often at Lowes?\n",
      " 0.8577292102802969\n",
      "Average_ratings: What is the worst drink to make for Starbucks baristas?\n",
      " 0.613041825618817\n",
      "Average_ratings: Does Starbucks pay overtime?\n",
      " 0.9261859184748538\n",
      "Average_ratings: What is your favorite thing about working for Starbucks?\n",
      " 0.70887180014312\n",
      "Average_ratings: How do Whole Foods workers feel about store managers?\n",
      " 0.7536148518380261\n",
      "Average_ratings: What job perks for Whole Foods employees value most?\n",
      " 0.7573127399761528\n",
      "Average_ratings: Do Kraken employees see themselves staying at the company for the long term?\n",
      " 0.2789429456511298\n"
     ]
    },
    {
     "name": "stderr",
     "output_type": "stream",
     "text": [
      "/var/folders/41/535q_kh53d1c4nzz7965cfxm0000gq/T/ipykernel_40367/2303926626.py:18: RuntimeWarning: invalid value encountered in divide\n",
      "  return np.divide(ndcg,ndcg_ideal)\n"
     ]
    },
    {
     "name": "stdout",
     "output_type": "stream",
     "text": [
      "Average_ratings: What do Kraken employees find frustrating in their day to day work?\n",
      " nan\n",
      "Average_ratings: What benefits do Chase employees value most?\n",
      " 0.411833840435435\n",
      "Average_ratings: Do Chase employees see opportunities for promotion and professional growth at the company?\n",
      " 0.2789429456511298\n",
      "Average_ratings: What causes bank employees the most stress at work?\n",
      " 0.8718378990745818\n",
      "Average_ratings: What are some reasons that bank employees quit their jobs?\n",
      " 0.6058809468824158\n",
      "Average_ratings: Do Fidelity employees want to work remotely?\n",
      " 0.38685280723454163\n",
      "Average_ratings: Do GameStop employees feel valued by the company?\n",
      " 0.7010838744717742\n",
      "Average_ratings: What does a typical day look like when working for GameStop?\n",
      " 0.49835051598734353\n",
      "Average_ratings: Do CVS employees feel safe at work?\n",
      " 0.8818065456597719\n",
      "Average_ratings: What do CVS workers do if they notice theft?\n",
      " 0.8969523259955808\n"
     ]
    }
   ],
   "source": [
    "data_file = 'Queries.txt'\n",
    "query_file = open(data_file, 'r')\n",
    "queries = query_file.readlines()\n",
    "query_file.close()\n",
    "\n",
    "for i in range(len(queries)):\n",
    "    ndcg_rating = get_relevance_score(queries[i].strip('\\n').strip(' '))\n",
    "    print(f\"Average_ratings:\", queries[i],ndcg_rating) \n"
   ]
  },
  {
   "cell_type": "code",
   "execution_count": null,
   "id": "ca0aff2d-289f-4505-ac1e-963c52b6c997",
   "metadata": {},
   "outputs": [],
   "source": []
  },
  {
   "cell_type": "code",
   "execution_count": null,
   "id": "113a1fbc-cd95-4cab-b14a-f5d1dd1a9899",
   "metadata": {},
   "outputs": [],
   "source": []
  },
  {
   "cell_type": "code",
   "execution_count": null,
   "id": "6d11aceb-9df7-401a-8261-b05382e369a0",
   "metadata": {},
   "outputs": [],
   "source": []
  }
 ],
 "metadata": {
  "kernelspec": {
   "display_name": "Python 3 (ipykernel)",
   "language": "python",
   "name": "python3"
  },
  "language_info": {
   "codemirror_mode": {
    "name": "ipython",
    "version": 3
   },
   "file_extension": ".py",
   "mimetype": "text/x-python",
   "name": "python",
   "nbconvert_exporter": "python",
   "pygments_lexer": "ipython3",
   "version": "3.11.7"
  }
 },
 "nbformat": 4,
 "nbformat_minor": 5
}
