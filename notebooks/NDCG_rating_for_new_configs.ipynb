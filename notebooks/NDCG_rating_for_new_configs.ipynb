{
 "cells": [
  {
   "cell_type": "code",
   "execution_count": 6,
   "id": "8989827f-00dd-4655-a9f1-763e0fb5cdc4",
   "metadata": {},
   "outputs": [],
   "source": [
    "import polars as pl\n",
    "import sys\n",
    "sys.path.append(\"../src/\")\n",
    "\n",
    "## For file handling\n",
    "import os\n",
    "import numpy as np\n",
    "## For warnings\n",
    "import warnings\n",
    "import math\n",
    "## Loading our modules\n",
    "from data_processing import preprocess, chunk, vectorize\n",
    "from evaluating_results import process_labels"
   ]
  },
  {
   "cell_type": "code",
   "execution_count": 17,
   "id": "afc39188-19e8-445b-a123-5cf488b2bee0",
   "metadata": {},
   "outputs": [],
   "source": [
    "def ndcg_calc(array):\n",
    "    \n",
    "    dcg = 0\n",
    "    dcg_ideal = 0\n",
    "    \n",
    "    sort_ind = np.argsort(array)\n",
    "    sorted_arr = np.take(array,sort_ind[::-1])\n",
    "\n",
    "    for j in range(len(array)):\n",
    "        dcg = dcg+(2**array[j]-1)/math.log2(j+2)\n",
    "\n",
    "    for j in range(len(sorted_arr)):\n",
    "        dcg_ideal = dcg_ideal+(2**sorted_arr[j]-1)/math.log2(j+2)\n",
    "\n",
    "        # Add the 1e-8 to control division by 0 error. \n",
    "        # This results when all the entries are irrelevant.\n",
    "    \n",
    "    return dcg/(dcg_ideal+1e-8)"
   ]
  },
  {
   "cell_type": "code",
   "execution_count": null,
   "id": "0fb2ef36-12c3-4848-9783-a0ec191a3660",
   "metadata": {},
   "outputs": [],
   "source": []
  },
  {
   "cell_type": "code",
   "execution_count": null,
   "id": "f4d9411d-f7b0-4de4-af8a-567009599d67",
   "metadata": {},
   "outputs": [],
   "source": []
  },
  {
   "cell_type": "code",
   "execution_count": 18,
   "id": "88904dae-176f-41ce-9339-fb58e03eb7b0",
   "metadata": {},
   "outputs": [],
   "source": [
    "def check_relevance_get_ndcg(query_text,df_new,df_labeled):\n",
    "\n",
    "    #Apply thresolding, chuck out everything from the 00 and 02 config results that are not relevant    \n",
    "    old_rating = [1,2,3]\n",
    "    new_rating = [1,0,0]\n",
    "    df_labeled = df_labeled.with_columns(pl.when(pl.col(\"relevance_rating\") == old_rating[1]).then(new_rating[1])\n",
    "                       .when(pl.col(\"relevance_rating\") == old_rating[2]).then(new_rating[2])\n",
    "    .otherwise(pl.col(\"relevance_rating\")).alias(\"relevance_rating\")\n",
    ")\n",
    "    df_labeled = df_labeled.filter(pl.col(\"relevance_rating\") == 1)\n",
    "    \n",
    "    df_new = df_new.filter(pl.col(\"query_text\") == query_text)\n",
    "    df_lab = df_labeled.filter(pl.col(\"query_text\") == query_text)\n",
    "    relevant_names = df_lab[\"reddit_name\"].to_list()\n",
    "\n",
    "    #compare if the replies from redditors with name \"reddit_name\", in the new config is present as relevant names. If they do,\n",
    "    #we score it 1, otherwise we score it 0\n",
    "    \n",
    "    df_r = df_new.with_columns(pl.col(\"reddit_name\").is_in(relevant_names).alias(\"is_relevant\"))\n",
    "    df_r = df_r.with_columns(pl.when(pl.col(\"is_relevant\") == True).then(1)\n",
    "                       .when(pl.col(\"is_relevant\") == False).then(0)\n",
    "    .otherwise(pl.col(\"is_relevant\")).alias(\"relevance_score\"))\n",
    "    return ndcg_calc(df_r[\"relevance_score\"].to_numpy())"
   ]
  },
  {
   "cell_type": "code",
   "execution_count": null,
   "id": "7fd6c59e-ee56-4e3e-904a-888cf8963397",
   "metadata": {},
   "outputs": [],
   "source": []
  },
  {
   "cell_type": "code",
   "execution_count": 21,
   "id": "5e2c58e9-68ba-4bb6-b0f8-cbf627ddfe74",
   "metadata": {},
   "outputs": [],
   "source": [
    "def calc_ndgc_score(df_new,df_labeled):\n",
    "    queries = df_new[\"query_text\"].unique().to_list()\n",
    "    NDCG = []\n",
    "    for i in range(len(queries)):\n",
    "        ndcg_rating = check_relevance_get_ndcg(queries[i],df_new,df_labeled)\n",
    "        NDCG.append(ndcg_rating)\n",
    "        print(f\"Average_ratings:\", queries[i],ndcg_rating) \n",
    "    #return queries, ndcg_rating"
   ]
  },
  {
   "cell_type": "code",
   "execution_count": null,
   "id": "cb609b56-ef90-46ac-9273-d0d016bd0634",
   "metadata": {},
   "outputs": [],
   "source": []
  },
  {
   "cell_type": "code",
   "execution_count": 22,
   "id": "85c388f4-b52c-422a-8e08-99744308555d",
   "metadata": {},
   "outputs": [
    {
     "name": "stdout",
     "output_type": "stream",
     "text": [
      "Average_ratings: What is your favorite thing about working for Starbucks? 0.0\n",
      "Average_ratings: When should you apply for a promotion at GM? 0.7816401445175513\n",
      "Average_ratings: What are some reasons that bank employees quit their jobs? 0.0\n",
      "Average_ratings: How often do you get a raise at Lowes? 0.0\n",
      "Average_ratings: Does Starbucks pay overtime? 0.0\n",
      "Average_ratings: How do General Motors employees feel about RTO? 0.8847483822948525\n",
      "Average_ratings: How much does a driver make with UPS? 0.0\n",
      "Average_ratings: Do Fidelity employees want to work remotely? 0.0\n",
      "Average_ratings: What causes bank employees the most stress at work? 0.0\n",
      "Average_ratings: What job perks for Whole Foods employees value most? 0.0\n",
      "Average_ratings: Is it better to work at fedex express or fedex ground? 0.0\n",
      "Average_ratings: Does your schedule get changed often at Lowes? 0.0\n",
      "Average_ratings: What do CVS workers do if they notice theft? 0.0\n",
      "Average_ratings: How do FedEx employees feel about route cuts? 0.0\n",
      "Average_ratings: What is the worst drink to make for Starbucks baristas? 0.0\n",
      "Average_ratings: How do Whole Foods workers feel about store managers? 0.0\n",
      "Average_ratings: Do CVS employees feel safe at work? 0.0\n",
      "Average_ratings: What does a typical day look like when working for GameStop? 0.0\n",
      "Average_ratings: How do UPS employees feel about route cuts? 0.0\n",
      "Average_ratings: Do GameStop employees feel valued by the company? 0.0\n",
      "Average_ratings: How long is a typical UPS shift? OR Should I work a double shift at UPS? 0.0\n",
      "Average_ratings: Do Chase employees see opportunities for promotion and professional growth at the company? 0.0\n",
      "Average_ratings: What benefits do Chase employees value most? 0.0\n",
      "Average_ratings: What kind of benefits does GM offer? 0.9311714782248908\n"
     ]
    }
   ],
   "source": [
    "# Read the new config results\n",
    "df_new_config = pl.read_parquet(\"../temp_query_data/queries_demo01query_demo.parquet\")\n",
    "# Read our labeled results, aggregate into a single dataframe\n",
    "\n",
    "df_labeled_00 = process_labels.get_merged_labels_and_votes(config=\"00\")\n",
    "df_labeled_00 = process_labels.get_majority_vote(df_labeled_00)\n",
    "\n",
    "df_labeled_02 = process_labels.get_merged_labels_and_votes(config=\"02\")\n",
    "df_labeled_02 = process_labels.get_majority_vote(df_labeled_02)\n",
    "df_labeled_config = pl.concat([df_labeled_00,df_labeled_02])\n",
    "\n",
    "calc_ndgc_score(df_new_config,df_labeled_config)"
   ]
  },
  {
   "cell_type": "code",
   "execution_count": null,
   "id": "603ce30e-735f-4449-b46c-5f18f747ba60",
   "metadata": {},
   "outputs": [],
   "source": []
  },
  {
   "cell_type": "code",
   "execution_count": null,
   "id": "ef2a06cc-38b0-4879-94c1-061246060d07",
   "metadata": {},
   "outputs": [],
   "source": []
  },
  {
   "cell_type": "code",
   "execution_count": null,
   "id": "107bcbc1-eb7a-4ea6-965d-e2ec8d3edeff",
   "metadata": {},
   "outputs": [],
   "source": []
  }
 ],
 "metadata": {
  "kernelspec": {
   "display_name": "Python 3 (ipykernel)",
   "language": "python",
   "name": "python3"
  },
  "language_info": {
   "codemirror_mode": {
    "name": "ipython",
    "version": 3
   },
   "file_extension": ".py",
   "mimetype": "text/x-python",
   "name": "python",
   "nbconvert_exporter": "python",
   "pygments_lexer": "ipython3",
   "version": "3.11.7"
  }
 },
 "nbformat": 4,
 "nbformat_minor": 5
}
